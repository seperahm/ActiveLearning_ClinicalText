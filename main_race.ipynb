{
 "cells": [
  {
   "cell_type": "code",
   "execution_count": null,
   "id": "12acbc83-45d2-4a65-a9fd-71cb0f3794a9",
   "metadata": {},
   "outputs": [],
   "source": [
    "from tools.DataLoader import DataLoader\n",
    "dataLoader = DataLoader()\n",
    "df = dataLoader.load_race_data()\n",
    "race_names = dataLoader.get_label_names(df)\n",
    "num_races = len(race_names)\n",
    "df['label'].value_counts()"
   ]
  },
  {
   "cell_type": "code",
   "execution_count": null,
   "id": "0d3128fc-7f92-4bac-bf30-163bdb9b920b",
   "metadata": {},
   "outputs": [],
   "source": [
    "unlabeled_data = dataLoader.load_unlabeled_data()\n",
    "# Example usage:\n",
    "unlabled_data = dataLoader.filter_unlabeled_data(unlabeled_data, df)\n",
    "unlabeled_data.head()"
   ]
  },
  {
   "cell_type": "code",
   "execution_count": null,
   "id": "5e201383-026a-4f7a-8686-6ff4e7b42e73",
   "metadata": {},
   "outputs": [],
   "source": [
    "from tools.DataPreprocessor import DataPreprocessor\n",
    "dataPreprocessor = DataPreprocessor()\n",
    "train_df, test_df = dataPreprocessor.sample_and_split_data(df)\n",
    "X_train, X_test, y_train, y_test = dataPreprocessor.prepare_data(train_df, test_df)"
   ]
  },
  {
   "cell_type": "code",
   "execution_count": null,
   "id": "f617ff38-844d-4d04-843b-9cbea3cad17e",
   "metadata": {},
   "outputs": [],
   "source": [
    "from tools.HierarchicalBertClassifier import HierarchicalBertClassifier\n",
    "BERT_VERSION_PATH = '/home/saveuser/S/projects/rawan2_project/Python Code/bertbase'\n",
    "# Initialize the classifier\n",
    "classifier = HierarchicalBertClassifier(BERT_VERSION_PATH, num_races)\n"
   ]
  },
  {
   "cell_type": "code",
   "execution_count": null,
   "id": "32d4f035-fb31-445c-87ea-e7461739df9e",
   "metadata": {},
   "outputs": [],
   "source": [
    "from tools.BatchActiveLearner import BatchActiveLearner\n",
    "from modAL.uncertainty import uncertainty_sampling\n",
    "# Initialize the batch active learner\n",
    "learner = BatchActiveLearner(\n",
    "    estimator=classifier,\n",
    "    X_training=X_train,\n",
    "    y_training=y_train,\n",
    "    query_strategy=uncertainty_sampling\n",
    ")"
   ]
  },
  {
   "cell_type": "code",
   "execution_count": null,
   "id": "7c8771f6-44a4-4a65-8985-086830f2b189",
   "metadata": {},
   "outputs": [],
   "source": []
  },
  {
   "cell_type": "code",
   "execution_count": null,
   "id": "e23b8beb-827a-45ae-b1d2-df9127da47f4",
   "metadata": {
    "scrolled": true
   },
   "outputs": [],
   "source": [
    "from tools.LabelingTool import LabelingTool\n",
    "import numpy as np\n",
    "from tqdm import tqdm\n",
    "\n",
    "# Active learning loop\n",
    "n_queries = 10\n",
    "pbar = tqdm(total=n_queries, desc=\"Active Learning\")\n",
    "\n",
    "# Prepare unlabeled data\n",
    "start_idx = 24576\n",
    "step = 1024 * 4\n",
    "X_pool = unlabeled_data[start_idx:start_idx+step]['text'].values\n",
    "label_type = 'race'\n",
    "label_names = list(race_names)\n",
    "labeler = LabelingTool()\n",
    "\n",
    "\n",
    "while len(X_pool) > 0 and pbar.n < n_queries:\n",
    "    X_pool = unlabeled_data[start_idx:start_idx+step]['text'].values\n",
    "    # query_idx = learner.query(X_pool)\n",
    "    query_idx = learner.query(X_pool)\n",
    "    # print(query_idx)\n",
    "    query_instances = [X_pool[idx] for idx in query_idx]\n",
    "    # print(f\"query_idx = {query_idx},\\nquery_instances = {query_instances}\")\n",
    "    y = labeler.assign_labels(X_pool, query_idx, unlabeled_data, label_type, race_names)\n",
    "\n",
    "    learner.teach(X=query_instances, y=y)\n",
    "\n",
    "    # Remove the queried instance from the pool\n",
    "    X_pool = np.delete(X_pool, query_idx, axis=0)\n",
    "    # Remove the corresponding row from unlabeled_data\n",
    "    unlabeled_data = unlabeled_data.drop(unlabeled_data.index[query_idx]).reset_index(drop=True)\n",
    "\n",
    "    pbar.update(1)\n",
    "    start_idx = start_idx + step\n",
    "    \n",
    "pbar.close()\n",
    "\n",
    "# Make predictions on the test set\n",
    "print(\"Making final predictions on test set...\")\n",
    "predictions = learner.predict(X_test)"
   ]
  },
  {
   "cell_type": "code",
   "execution_count": null,
   "id": "c6f7cb2e-3c16-4f41-95e7-72f889cae3d9",
   "metadata": {},
   "outputs": [],
   "source": [
    "label_names"
   ]
  }
 ],
 "metadata": {
  "kernelspec": {
   "display_name": "Python 3 (ipykernel)",
   "language": "python",
   "name": "python3"
  },
  "language_info": {
   "codemirror_mode": {
    "name": "ipython",
    "version": 3
   },
   "file_extension": ".py",
   "mimetype": "text/x-python",
   "name": "python",
   "nbconvert_exporter": "python",
   "pygments_lexer": "ipython3",
   "version": "3.10.12"
  }
 },
 "nbformat": 4,
 "nbformat_minor": 5
}
