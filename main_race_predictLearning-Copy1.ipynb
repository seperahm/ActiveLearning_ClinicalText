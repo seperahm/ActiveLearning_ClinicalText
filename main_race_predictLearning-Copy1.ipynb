{
 "cells": [
  {
   "cell_type": "code",
   "execution_count": null,
   "id": "12acbc83-45d2-4a65-a9fd-71cb0f3794a9",
   "metadata": {},
   "outputs": [],
   "source": [
    "from tools.DataLoader import DataLoader\n",
    "dataLoader = DataLoader()\n",
    "df = dataLoader.load_race_data()\n",
    "race_names = dataLoader.get_label_names(df)\n",
    "num_races = len(race_names)\n",
    "df['label'].value_counts()"
   ]
  },
  {
   "cell_type": "code",
   "execution_count": null,
   "id": "0d3128fc-7f92-4bac-bf30-163bdb9b920b",
   "metadata": {},
   "outputs": [],
   "source": [
    "unlabeled_data = dataLoader.load_unlabeled_data()\n",
    "# Example usage:\n",
    "unlabled_data = dataLoader.filter_unlabeled_data(unlabeled_data, df)\n",
    "unlabeled_data.head()"
   ]
  },
  {
   "cell_type": "code",
   "execution_count": null,
   "id": "5e201383-026a-4f7a-8686-6ff4e7b42e73",
   "metadata": {},
   "outputs": [],
   "source": [
    "from tools.DataPreprocessor import DataPreprocessor\n",
    "dataPreprocessor = DataPreprocessor()\n",
    "train_df, test_df = dataPreprocessor.sample_and_split_data(df)\n",
    "X_train, X_test, y_train, y_test = dataPreprocessor.prepare_data(train_df, test_df)"
   ]
  },
  {
   "cell_type": "code",
   "execution_count": null,
   "id": "f617ff38-844d-4d04-843b-9cbea3cad17e",
   "metadata": {},
   "outputs": [],
   "source": [
    "from tools.HierarchicalBertClassifier import HierarchicalBertClassifier\n",
    "BERT_VERSION_PATH = '/home/saveuser/S/projects/rawan2_project/Python Code/bertbase'\n",
    "# Initialize the classifier\n",
    "classifier = HierarchicalBertClassifier(BERT_VERSION_PATH, num_races)\n"
   ]
  },
  {
   "cell_type": "code",
   "execution_count": 5,
   "id": "32d4f035-fb31-445c-87ea-e7461739df9e",
   "metadata": {},
   "outputs": [],
   "source": [
    "# from tools.BatchActiveLearner import BatchActiveLearner\n",
    "# from modAL.uncertainty import uncertainty_sampling\n",
    "# # Initialize the batch active learner\n",
    "# learner = BatchActiveLearner(\n",
    "#     estimator=classifier,\n",
    "#     X_training=X_train,\n",
    "#     y_training=y_train,\n",
    "#     query_strategy=uncertainty_sampling\n",
    "# )"
   ]
  },
  {
   "cell_type": "code",
   "execution_count": null,
   "id": "7c8771f6-44a4-4a65-8985-086830f2b189",
   "metadata": {},
   "outputs": [],
   "source": [
    "# Initialize and train the classifier\n",
    "classifier = HierarchicalBertClassifier(BERT_VERSION_PATH, num_races)\n",
    "# Train on your initial labeled data (sampled_data)\n",
    "classifier.fit(X_train, y_train)\n",
    "start_idx = 20480 + 1024"
   ]
  },
  {
   "cell_type": "code",
   "execution_count": null,
   "id": "e23b8beb-827a-45ae-b1d2-df9127da47f4",
   "metadata": {
    "scrolled": true
   },
   "outputs": [],
   "source": [
    "from tools.LabelingTool import LabelingTool\n",
    "import numpy as np\n",
    "from tqdm import tqdm\n",
    "# Setup for processing unlabeled data\n",
    "n_queries = 10\n",
    "pbar = tqdm(total=n_queries, desc=\"Active Learning\")\n",
    "step = 1024\n",
    "\n",
    "label_type = 'race'\n",
    "label_names = list(race_names)\n",
    "labeler = LabelingTool()\n",
    "with_confidence = True\n",
    "\n",
    "while pbar.n < n_queries:\n",
    "    # Get batch of unlabeled data\n",
    "    # X_pool = unlabeled_data[start_idx:start_idx+step]['text'].values\n",
    "    X_pool = unlabeled_data['text'].values[np.random.choice(len(unlabeled_data), size=step, replace=False)]\n",
    "\n",
    "    if len(X_pool) == 0:\n",
    "        break\n",
    "\n",
    "    # Get predictions and probabilities for the batch\n",
    "    print(f'unlabled data query range = [{start_idx},{start_idx+step}]')\n",
    "    print(f'predicting pool of size = {step}...')\n",
    "    predictions = classifier.predict(X_pool)\n",
    "    probabilities = classifier.predict_proba(X_pool)\n",
    "\n",
    "    # Find instances where race is predicted as present\n",
    "    print(f'gathering results where race is non-absent...')\n",
    "    race_present_indices = []\n",
    "    for idx, (pred, prob) in enumerate(zip(predictions, probabilities)):\n",
    "        if pred != 'absent':\n",
    "            print(prob)\n",
    "            race_present_indices.append({\n",
    "                'index': start_idx + idx,\n",
    "                'text': X_pool[idx],\n",
    "                'predicted_race': pred,\n",
    "                'confidence': np.max(prob)\n",
    "            })\n",
    "\n",
    "    # Sort by confidence (optional)\n",
    "    race_present_indices.sort(key=lambda x: x['confidence'])\n",
    "\n",
    "    # Print predictions for review\n",
    "    print(f'Number of instances found with race present = {len(race_present_indices)}')\n",
    "    # print(\"\\nPredicted instances with race present:\")\n",
    "    # for idx, instance in enumerate(race_present_indices):\n",
    "    #     print(f\"\\nInstance {idx + 1}:\")\n",
    "    #     print(f\"Text: {instance['text']}\")\n",
    "    #     print(f\"Predicted race: {instance['predicted_race']}\")\n",
    "    #     print(f\"Confidence: {instance['confidence']:.3f}\")\n",
    "\n",
    "    # Get indices for labeling\n",
    "    query_idx = [instance['index'] for instance in race_present_indices]\n",
    "    print(query_idx)\n",
    "\n",
    "    if query_idx:  # if there are instances with race present\n",
    "        # Get labels using LabelingTool\n",
    "        y = labeler.assign_labels(X_pool, race_present_indices, unlabeled_data, label_type, race_names, with_confidence)\n",
    "\n",
    "        # Add newly labeled data to training data and retrain the classifier\n",
    "        new_X = unlabeled_data[query_idx]\n",
    "        # Retrain Step\n",
    "        classifier = HierarchicalBertClassifier(BERT_VERSION_PATH, num_races)\n",
    "        X_train = np.concatenate([X_train, new_X])\n",
    "        y_train = np.concatenate([y_train, y])\n",
    "        classifier.fit(X_train, y_train)\n",
    "        # Remove labeled instances from unlabeled_data\n",
    "        unlabeled_data = unlabeled_data.drop(unlabeled_data.index[query_idx]).reset_index(drop=True)\n",
    "\n",
    "    pbar.update(1)\n",
    "    start_idx = start_idx + step\n",
    "\n",
    "pbar.close()"
   ]
  },
  {
   "cell_type": "code",
   "execution_count": null,
   "id": "c6f7cb2e-3c16-4f41-95e7-72f889cae3d9",
   "metadata": {},
   "outputs": [],
   "source": [
    "label_names"
   ]
  }
 ],
 "metadata": {
  "kernelspec": {
   "display_name": "Python 3 (ipykernel)",
   "language": "python",
   "name": "python3"
  },
  "language_info": {
   "codemirror_mode": {
    "name": "ipython",
    "version": 3
   },
   "file_extension": ".py",
   "mimetype": "text/x-python",
   "name": "python",
   "nbconvert_exporter": "python",
   "pygments_lexer": "ipython3",
   "version": "3.10.12"
  }
 },
 "nbformat": 4,
 "nbformat_minor": 5
}
